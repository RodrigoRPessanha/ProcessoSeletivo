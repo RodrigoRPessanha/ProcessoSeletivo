{
 "cells": [
  {
   "cell_type": "code",
   "execution_count": 49,
   "metadata": {},
   "outputs": [
    {
     "data": {
      "text/plain": [
       "b'{\"message\":\"User created successfully.\"}\\n'"
      ]
     },
     "execution_count": 49,
     "metadata": {},
     "output_type": "execute_result"
    }
   ],
   "source": [
    "import requests\n",
    "url = 'http://127.0.0.1:5000/create/Funcionario/'\n",
    "data = {\n",
    "    'name': 'Lucas',\n",
    "    'last_name': 'Silva',\n",
    "    'birth_date': '1989-07-03',\n",
    "    'aptoEmbarque': '0',\n",
    "    }\n",
    "response = requests.post(url, json=data)\n",
    "response.content"
   ]
  },
  {
   "cell_type": "code",
   "execution_count": 20,
   "metadata": {},
   "outputs": [],
   "source": [
    "import requests\n",
    "url = 'http://127.0.0.1:5000/delete/Funcionario/5'\n",
    "response = requests.delete(url)\n",
    "response.content"
   ]
  },
  {
   "cell_type": "code",
   "execution_count": 47,
   "metadata": {},
   "outputs": [
    {
     "data": {
      "text/plain": [
       "b'{\"message\":\"Error: embarque does not exist.\"}\\n'"
      ]
     },
     "execution_count": 47,
     "metadata": {},
     "output_type": "execute_result"
    }
   ],
   "source": [
    "import requests\n",
    "url = 'http://127.0.0.1:5000/update/Funcionario/'\n",
    "data = {\n",
    "    'id': '4',\n",
    "    'name': 'Lucas',\n",
    "    'last_name': 'Silva',\n",
    "    'birth_date': '1989-07-03',\n",
    "    'aptoEmbarque': '1',\n",
    "    }\n",
    "response = requests.post(url, json=data)\n",
    "response.content"
   ]
  },
  {
   "cell_type": "code",
   "execution_count": 50,
   "metadata": {},
   "outputs": [
    {
     "data": {
      "text/plain": [
       "b'{\"message\":\"Us\\\\u00faario 4 n\\\\u00e3o est\\\\u00e1 apto para embarque.\"}\\n'"
      ]
     },
     "execution_count": 50,
     "metadata": {},
     "output_type": "execute_result"
    }
   ],
   "source": [
    "import requests\n",
    "url = 'http://127.0.0.1:5000/create/Embarque/'\n",
    "data = {\n",
    "    'dataEmbarque': '2023-05-03',\n",
    "    'dataDesembarque': '2023-05-15',\n",
    "    'idFuncionario': '4',\n",
    "    'comentario': 'comentario'\n",
    "    }\n",
    "response = requests.post(url, json=data)\n",
    "response.content"
   ]
  },
  {
   "cell_type": "code",
   "execution_count": 39,
   "metadata": {},
   "outputs": [
    {
     "data": {
      "text/plain": [
       "b'{\"message\":\"Embarque deleted successfully.\"}\\n'"
      ]
     },
     "execution_count": 39,
     "metadata": {},
     "output_type": "execute_result"
    }
   ],
   "source": [
    "import requests\n",
    "url = 'http://127.0.0.1:5000/delete/Embarque/3'\n",
    "response = requests.delete(url)\n",
    "response.content"
   ]
  },
  {
   "cell_type": "code",
   "execution_count": 45,
   "metadata": {},
   "outputs": [
    {
     "data": {
      "text/plain": [
       "b'{\"message\":\"Error: embarque does not exist.\"}\\n'"
      ]
     },
     "execution_count": 45,
     "metadata": {},
     "output_type": "execute_result"
    }
   ],
   "source": [
    "import requests\n",
    "url = 'http://127.0.0.1:5000/update/Embarque/'\n",
    "data = {\n",
    "    'id': '4',\n",
    "    'dataEmbarque': '2023-05-04',\n",
    "    'dataDesembarque': '2023-05-16',\n",
    "    'idFuncionario': '4',\n",
    "    'comentario': 'comentario'\n",
    "    }\n",
    "response = requests.post(url, json=data)\n",
    "response.content"
   ]
  },
  {
   "cell_type": "code",
   "execution_count": 24,
   "metadata": {},
   "outputs": [
    {
     "data": {
      "text/plain": [
       "b'<!doctype html>\\n<html lang=en>\\n<title>500 Internal Server Error</title>\\n<h1>Internal Server Error</h1>\\n<p>The server encountered an internal error and was unable to complete your request. Either the server is overloaded or there is an error in the application.</p>\\n'"
      ]
     },
     "execution_count": 24,
     "metadata": {},
     "output_type": "execute_result"
    }
   ],
   "source": [
    "response.content"
   ]
  }
 ],
 "metadata": {
  "kernelspec": {
   "display_name": "Python 3",
   "language": "python",
   "name": "python3"
  },
  "language_info": {
   "codemirror_mode": {
    "name": "ipython",
    "version": 3
   },
   "file_extension": ".py",
   "mimetype": "text/x-python",
   "name": "python",
   "nbconvert_exporter": "python",
   "pygments_lexer": "ipython3",
   "version": "3.11.2"
  },
  "orig_nbformat": 4
 },
 "nbformat": 4,
 "nbformat_minor": 2
}
