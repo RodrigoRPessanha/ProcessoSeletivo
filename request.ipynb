{
 "cells": [
  {
   "cell_type": "code",
   "execution_count": 4,
   "metadata": {},
   "outputs": [
    {
     "data": {
      "text/plain": [
       "b'{\"message\":\"User created successfully.\"}\\n'"
      ]
     },
     "execution_count": 4,
     "metadata": {},
     "output_type": "execute_result"
    }
   ],
   "source": [
    "import requests\n",
    "url = 'http://127.0.0.1:5000/create/Funcionario/'\n",
    "data = {\n",
    "    'name': 'Lucas',\n",
    "    'last_name': 'Silva',\n",
    "    'birth_date': '1989-07-03',\n",
    "    'aptoEmbarque': '0',\n",
    "    }\n",
    "response = requests.post(url, json=data)\n",
    "response.content"
   ]
  },
  {
   "cell_type": "code",
   "execution_count": 3,
   "metadata": {},
   "outputs": [
    {
     "data": {
      "text/plain": [
       "b'{\"message\":\"User deleted successfully.\"}\\n'"
      ]
     },
     "execution_count": 3,
     "metadata": {},
     "output_type": "execute_result"
    }
   ],
   "source": [
    "import requests\n",
    "url = 'http://127.0.0.1:5000/delete/Funcionario/4'\n",
    "response = requests.delete(url)\n",
    "response.content"
   ]
  },
  {
   "cell_type": "code",
   "execution_count": 7,
   "metadata": {},
   "outputs": [
    {
     "data": {
      "text/plain": [
       "b'{\"message\":\"User updated successfully.\"}\\n'"
      ]
     },
     "execution_count": 7,
     "metadata": {},
     "output_type": "execute_result"
    }
   ],
   "source": [
    "import requests\n",
    "url = 'http://127.0.0.1:5000/update/Funcionario/'\n",
    "data = {\n",
    "    'id': '3',\n",
    "    'name': 'Lucas',\n",
    "    'last_name': 'Silva',\n",
    "    'birth_date': '1989-07-03',\n",
    "    'aptoEmbarque': '1',\n",
    "    }\n",
    "response = requests.post(url, json=data)\n",
    "response.content"
   ]
  },
  {
   "cell_type": "code",
   "execution_count": 7,
   "metadata": {},
   "outputs": [
    {
     "data": {
      "text/plain": [
       "b'{\"message\":\"Usuario 1 nao esta apto para embarque.\"}\\n'"
      ]
     },
     "execution_count": 7,
     "metadata": {},
     "output_type": "execute_result"
    }
   ],
   "source": [
    "import requests\n",
    "url = 'http://127.0.0.1:5000/create/Embarque/'\n",
    "data = {\n",
    "    'dataEmbarque': '2023-05-03',\n",
    "    'dataDesembarque': '2023-05-15',\n",
    "    'idFuncionario': '1',\n",
    "    'comentario': 'comentario'\n",
    "    }\n",
    "response = requests.post(url, json=data)\n",
    "response.content"
   ]
  },
  {
   "cell_type": "code",
   "execution_count": 39,
   "metadata": {},
   "outputs": [
    {
     "data": {
      "text/plain": [
       "b'{\"message\":\"Embarque deleted successfully.\"}\\n'"
      ]
     },
     "execution_count": 39,
     "metadata": {},
     "output_type": "execute_result"
    }
   ],
   "source": [
    "import requests\n",
    "url = 'http://127.0.0.1:5000/delete/Embarque/3'\n",
    "response = requests.delete(url)\n",
    "response.content"
   ]
  },
  {
   "cell_type": "code",
   "execution_count": 5,
   "metadata": {},
   "outputs": [
    {
     "data": {
      "text/plain": [
       "b'{\"message\":\"Error: embarque does not exist.\"}\\n'"
      ]
     },
     "execution_count": 5,
     "metadata": {},
     "output_type": "execute_result"
    }
   ],
   "source": [
    "import requests\n",
    "url = 'http://127.0.0.1:5000/update/Embarque/'\n",
    "data = {\n",
    "    'id': '4',\n",
    "    'dataEmbarque': '2023-05-04',\n",
    "    'dataDesembarque': '2023-05-16',\n",
    "    'idFuncionario': '6',\n",
    "    'comentario': 'comentario'\n",
    "    }\n",
    "response = requests.post(url, json=data)\n",
    "response.content"
   ]
  },
  {
   "cell_type": "code",
   "execution_count": 24,
   "metadata": {},
   "outputs": [
    {
     "data": {
      "text/plain": [
       "b'<!doctype html>\\n<html lang=en>\\n<title>500 Internal Server Error</title>\\n<h1>Internal Server Error</h1>\\n<p>The server encountered an internal error and was unable to complete your request. Either the server is overloaded or there is an error in the application.</p>\\n'"
      ]
     },
     "execution_count": 24,
     "metadata": {},
     "output_type": "execute_result"
    }
   ],
   "source": [
    "response.content"
   ]
  },
  {
   "cell_type": "code",
   "execution_count": 13,
   "metadata": {},
   "outputs": [
    {
     "name": "stdout",
     "output_type": "stream",
     "text": [
      "0 ('faw fawd', '2000-01-01', '2000-01-03')\n",
      "1 ('Lucas Souza', '2023-04-26', '2023-05-02')\n",
      "2 ('faw fawd', '2000-01-01', '2000-01-04')\n",
      "3 ('faw fawd', '2000-01-01', '2000-01-01')\n"
     ]
    }
   ],
   "source": [
    "import requests\n",
    "url = 'http://127.0.0.1:5000/select/dadosCEO/'\n",
    "response = requests.get(url)\n",
    "listaEmbarques = response.json()\n",
    "\n",
    "lista = [tuple(i.values()) for i in listaEmbarques]\n",
    "for linha, dados in enumerate(lista):\n",
    "    print(linha, tuple(reversed(dados)))"
   ]
  }
 ],
 "metadata": {
  "kernelspec": {
   "display_name": "Python 3",
   "language": "python",
   "name": "python3"
  },
  "language_info": {
   "codemirror_mode": {
    "name": "ipython",
    "version": 3
   },
   "file_extension": ".py",
   "mimetype": "text/x-python",
   "name": "python",
   "nbconvert_exporter": "python",
   "pygments_lexer": "ipython3",
   "version": "3.11.2"
  },
  "orig_nbformat": 4
 },
 "nbformat": 4,
 "nbformat_minor": 2
}
